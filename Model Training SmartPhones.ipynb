{
  "nbformat": 4,
  "nbformat_minor": 0,
  "metadata": {
    "colab": {
      "name": "Source Code.ipynb",
      "provenance": [],
      "collapsed_sections": []
    },
    "kernelspec": {
      "name": "python3",
      "display_name": "Python 3"
    },
    "language_info": {
      "name": "python"
    }
  },
  "cells": [
    {
      "cell_type": "markdown",
      "metadata": {
        "id": "h2A7Ta16tGvC"
      },
      "source": [
        "***Importing my File in Program...***"
      ]
    },
    {
      "cell_type": "code",
      "metadata": {
        "colab": {
          "base_uri": "https://localhost:8080/",
          "height": 421
        },
        "id": "fKWfg7HRsmdB",
        "outputId": "9a4d21cd-eba2-4ec9-cc24-3b68b695f367"
      },
      "source": [
        "import pandas as pd\n",
        "df = pd.read_csv(\"SmartPhones.csv\")\n",
        "df"
      ],
      "execution_count": null,
      "outputs": [
        {
          "output_type": "execute_result",
          "data": {
            "text/html": [
              "<div>\n",
              "<style scoped>\n",
              "    .dataframe tbody tr th:only-of-type {\n",
              "        vertical-align: middle;\n",
              "    }\n",
              "\n",
              "    .dataframe tbody tr th {\n",
              "        vertical-align: top;\n",
              "    }\n",
              "\n",
              "    .dataframe thead th {\n",
              "        text-align: right;\n",
              "    }\n",
              "</style>\n",
              "<table border=\"1\" class=\"dataframe\">\n",
              "  <thead>\n",
              "    <tr style=\"text-align: right;\">\n",
              "      <th></th>\n",
              "      <th>SmartPhone</th>\n",
              "      <th>Storage</th>\n",
              "      <th>Price</th>\n",
              "    </tr>\n",
              "  </thead>\n",
              "  <tbody>\n",
              "    <tr>\n",
              "      <th>0</th>\n",
              "      <td>Xiomi Poco X3 Pro</td>\n",
              "      <td>32</td>\n",
              "      <td>15000</td>\n",
              "    </tr>\n",
              "    <tr>\n",
              "      <th>1</th>\n",
              "      <td>Xiomi Poco X3 Pro</td>\n",
              "      <td>64</td>\n",
              "      <td>19000</td>\n",
              "    </tr>\n",
              "    <tr>\n",
              "      <th>2</th>\n",
              "      <td>Xiomi Poco X3 Pro</td>\n",
              "      <td>128</td>\n",
              "      <td>20999</td>\n",
              "    </tr>\n",
              "    <tr>\n",
              "      <th>3</th>\n",
              "      <td>Xiomi Poco X3 Pro</td>\n",
              "      <td>256</td>\n",
              "      <td>25990</td>\n",
              "    </tr>\n",
              "    <tr>\n",
              "      <th>4</th>\n",
              "      <td>iQ 007 Legend</td>\n",
              "      <td>32</td>\n",
              "      <td>32990</td>\n",
              "    </tr>\n",
              "    <tr>\n",
              "      <th>5</th>\n",
              "      <td>iQ 007 Legend</td>\n",
              "      <td>64</td>\n",
              "      <td>36990</td>\n",
              "    </tr>\n",
              "    <tr>\n",
              "      <th>6</th>\n",
              "      <td>iQ 007 Legend</td>\n",
              "      <td>128</td>\n",
              "      <td>39990</td>\n",
              "    </tr>\n",
              "    <tr>\n",
              "      <th>7</th>\n",
              "      <td>iQ 007 Legend</td>\n",
              "      <td>256</td>\n",
              "      <td>43990</td>\n",
              "    </tr>\n",
              "    <tr>\n",
              "      <th>8</th>\n",
              "      <td>iQ 007</td>\n",
              "      <td>32</td>\n",
              "      <td>29990</td>\n",
              "    </tr>\n",
              "    <tr>\n",
              "      <th>9</th>\n",
              "      <td>iQ 007</td>\n",
              "      <td>64</td>\n",
              "      <td>31990</td>\n",
              "    </tr>\n",
              "    <tr>\n",
              "      <th>10</th>\n",
              "      <td>iQ 007</td>\n",
              "      <td>128</td>\n",
              "      <td>35990</td>\n",
              "    </tr>\n",
              "    <tr>\n",
              "      <th>11</th>\n",
              "      <td>iQ 007</td>\n",
              "      <td>256</td>\n",
              "      <td>39990</td>\n",
              "    </tr>\n",
              "  </tbody>\n",
              "</table>\n",
              "</div>"
            ],
            "text/plain": [
              "           SmartPhone  Storage  Price\n",
              "0   Xiomi Poco X3 Pro       32  15000\n",
              "1   Xiomi Poco X3 Pro       64  19000\n",
              "2   Xiomi Poco X3 Pro      128  20999\n",
              "3   Xiomi Poco X3 Pro      256  25990\n",
              "4       iQ 007 Legend       32  32990\n",
              "5       iQ 007 Legend       64  36990\n",
              "6       iQ 007 Legend      128  39990\n",
              "7       iQ 007 Legend      256  43990\n",
              "8              iQ 007       32  29990\n",
              "9              iQ 007       64  31990\n",
              "10             iQ 007      128  35990\n",
              "11             iQ 007      256  39990"
            ]
          },
          "metadata": {},
          "execution_count": 22
        }
      ]
    },
    {
      "cell_type": "markdown",
      "metadata": {
        "id": "clcz5MrStkCX"
      },
      "source": [
        "***Using Sklearn OneHotEncoder***\n",
        "\n",
        "*To Covert SmartPhones name into Labels (numbers)*"
      ]
    },
    {
      "cell_type": "code",
      "metadata": {
        "id": "ZbfJzlfQtjM3"
      },
      "source": [
        "\n",
        "from sklearn.preprocessing import LabelEncoder\n",
        "le = LabelEncoder()"
      ],
      "execution_count": null,
      "outputs": []
    },
    {
      "cell_type": "code",
      "metadata": {
        "colab": {
          "base_uri": "https://localhost:8080/",
          "height": 421
        },
        "id": "XVVWOkt_uVDa",
        "outputId": "7e504e7e-0aed-4cd4-ff8b-164794e91f09"
      },
      "source": [
        "dfle = df\n",
        "dfle.SmartPhone = le.fit_transform(dfle.SmartPhone)\n",
        "dfle"
      ],
      "execution_count": null,
      "outputs": [
        {
          "output_type": "execute_result",
          "data": {
            "text/html": [
              "<div>\n",
              "<style scoped>\n",
              "    .dataframe tbody tr th:only-of-type {\n",
              "        vertical-align: middle;\n",
              "    }\n",
              "\n",
              "    .dataframe tbody tr th {\n",
              "        vertical-align: top;\n",
              "    }\n",
              "\n",
              "    .dataframe thead th {\n",
              "        text-align: right;\n",
              "    }\n",
              "</style>\n",
              "<table border=\"1\" class=\"dataframe\">\n",
              "  <thead>\n",
              "    <tr style=\"text-align: right;\">\n",
              "      <th></th>\n",
              "      <th>SmartPhone</th>\n",
              "      <th>Storage</th>\n",
              "      <th>Price</th>\n",
              "    </tr>\n",
              "  </thead>\n",
              "  <tbody>\n",
              "    <tr>\n",
              "      <th>0</th>\n",
              "      <td>0</td>\n",
              "      <td>32</td>\n",
              "      <td>15000</td>\n",
              "    </tr>\n",
              "    <tr>\n",
              "      <th>1</th>\n",
              "      <td>0</td>\n",
              "      <td>64</td>\n",
              "      <td>19000</td>\n",
              "    </tr>\n",
              "    <tr>\n",
              "      <th>2</th>\n",
              "      <td>0</td>\n",
              "      <td>128</td>\n",
              "      <td>20999</td>\n",
              "    </tr>\n",
              "    <tr>\n",
              "      <th>3</th>\n",
              "      <td>0</td>\n",
              "      <td>256</td>\n",
              "      <td>25990</td>\n",
              "    </tr>\n",
              "    <tr>\n",
              "      <th>4</th>\n",
              "      <td>2</td>\n",
              "      <td>32</td>\n",
              "      <td>32990</td>\n",
              "    </tr>\n",
              "    <tr>\n",
              "      <th>5</th>\n",
              "      <td>2</td>\n",
              "      <td>64</td>\n",
              "      <td>36990</td>\n",
              "    </tr>\n",
              "    <tr>\n",
              "      <th>6</th>\n",
              "      <td>2</td>\n",
              "      <td>128</td>\n",
              "      <td>39990</td>\n",
              "    </tr>\n",
              "    <tr>\n",
              "      <th>7</th>\n",
              "      <td>2</td>\n",
              "      <td>256</td>\n",
              "      <td>43990</td>\n",
              "    </tr>\n",
              "    <tr>\n",
              "      <th>8</th>\n",
              "      <td>1</td>\n",
              "      <td>32</td>\n",
              "      <td>29990</td>\n",
              "    </tr>\n",
              "    <tr>\n",
              "      <th>9</th>\n",
              "      <td>1</td>\n",
              "      <td>64</td>\n",
              "      <td>31990</td>\n",
              "    </tr>\n",
              "    <tr>\n",
              "      <th>10</th>\n",
              "      <td>1</td>\n",
              "      <td>128</td>\n",
              "      <td>35990</td>\n",
              "    </tr>\n",
              "    <tr>\n",
              "      <th>11</th>\n",
              "      <td>1</td>\n",
              "      <td>256</td>\n",
              "      <td>39990</td>\n",
              "    </tr>\n",
              "  </tbody>\n",
              "</table>\n",
              "</div>"
            ],
            "text/plain": [
              "    SmartPhone  Storage  Price\n",
              "0            0       32  15000\n",
              "1            0       64  19000\n",
              "2            0      128  20999\n",
              "3            0      256  25990\n",
              "4            2       32  32990\n",
              "5            2       64  36990\n",
              "6            2      128  39990\n",
              "7            2      256  43990\n",
              "8            1       32  29990\n",
              "9            1       64  31990\n",
              "10           1      128  35990\n",
              "11           1      256  39990"
            ]
          },
          "metadata": {},
          "execution_count": 24
        }
      ]
    },
    {
      "cell_type": "code",
      "metadata": {
        "colab": {
          "base_uri": "https://localhost:8080/"
        },
        "id": "jgnea1Ikug-B",
        "outputId": "02a89c8c-1881-4430-b5dc-154e6b40b70f"
      },
      "source": [
        "x = dfle[['SmartPhone','Storage']].values\n",
        "x"
      ],
      "execution_count": null,
      "outputs": [
        {
          "output_type": "execute_result",
          "data": {
            "text/plain": [
              "array([[  0,  32],\n",
              "       [  0,  64],\n",
              "       [  0, 128],\n",
              "       [  0, 256],\n",
              "       [  2,  32],\n",
              "       [  2,  64],\n",
              "       [  2, 128],\n",
              "       [  2, 256],\n",
              "       [  1,  32],\n",
              "       [  1,  64],\n",
              "       [  1, 128],\n",
              "       [  1, 256]])"
            ]
          },
          "metadata": {},
          "execution_count": 25
        }
      ]
    },
    {
      "cell_type": "code",
      "metadata": {
        "colab": {
          "base_uri": "https://localhost:8080/"
        },
        "id": "N-gpKa1cun-b",
        "outputId": "6d687c78-bc85-4086-db59-571cd1259dbf"
      },
      "source": [
        "y = dfle.Price.values\n",
        "y"
      ],
      "execution_count": null,
      "outputs": [
        {
          "output_type": "execute_result",
          "data": {
            "text/plain": [
              "array([15000, 19000, 20999, 25990, 32990, 36990, 39990, 43990, 29990,\n",
              "       31990, 35990, 39990])"
            ]
          },
          "metadata": {},
          "execution_count": 26
        }
      ]
    },
    {
      "cell_type": "markdown",
      "metadata": {
        "id": "ZIjlYrnMus0_"
      },
      "source": [
        "***Using OneHotEncoder to create Dummy Variables for each SmartPhones***\n",
        "\n",
        "*IMPORTING*"
      ]
    },
    {
      "cell_type": "code",
      "metadata": {
        "id": "AewhiehxvAJw"
      },
      "source": [
        "from sklearn.preprocessing import OneHotEncoder\n",
        "from sklearn.compose import ColumnTransformer\n",
        "ct = ColumnTransformer([('SmartPhone', OneHotEncoder(), [0])], remainder = 'passthrough')"
      ],
      "execution_count": null,
      "outputs": []
    },
    {
      "cell_type": "code",
      "metadata": {
        "colab": {
          "base_uri": "https://localhost:8080/"
        },
        "id": "l2d3JBknvMHS",
        "outputId": "d5027eb1-084a-4726-fcda-b8445be87690"
      },
      "source": [
        "x = ct.fit_transform(x)\n",
        "x"
      ],
      "execution_count": null,
      "outputs": [
        {
          "output_type": "execute_result",
          "data": {
            "text/plain": [
              "array([[  1.,   0.,   0.,  32.],\n",
              "       [  1.,   0.,   0.,  64.],\n",
              "       [  1.,   0.,   0., 128.],\n",
              "       [  1.,   0.,   0., 256.],\n",
              "       [  0.,   0.,   1.,  32.],\n",
              "       [  0.,   0.,   1.,  64.],\n",
              "       [  0.,   0.,   1., 128.],\n",
              "       [  0.,   0.,   1., 256.],\n",
              "       [  0.,   1.,   0.,  32.],\n",
              "       [  0.,   1.,   0.,  64.],\n",
              "       [  0.,   1.,   0., 128.],\n",
              "       [  0.,   1.,   0., 256.]])"
            ]
          },
          "metadata": {},
          "execution_count": 28
        }
      ]
    },
    {
      "cell_type": "code",
      "metadata": {
        "colab": {
          "base_uri": "https://localhost:8080/"
        },
        "id": "GuNaMyvuvTQq",
        "outputId": "29bf8b06-795c-40e8-cd09-0875d1d84ee7"
      },
      "source": [
        "x = x[:,1:]\n",
        "x"
      ],
      "execution_count": null,
      "outputs": [
        {
          "output_type": "execute_result",
          "data": {
            "text/plain": [
              "array([[  0.,   0.,  32.],\n",
              "       [  0.,   0.,  64.],\n",
              "       [  0.,   0., 128.],\n",
              "       [  0.,   0., 256.],\n",
              "       [  0.,   1.,  32.],\n",
              "       [  0.,   1.,  64.],\n",
              "       [  0.,   1., 128.],\n",
              "       [  0.,   1., 256.],\n",
              "       [  1.,   0.,  32.],\n",
              "       [  1.,   0.,  64.],\n",
              "       [  1.,   0., 128.],\n",
              "       [  1.,   0., 256.]])"
            ]
          },
          "metadata": {},
          "execution_count": 29
        }
      ]
    },
    {
      "cell_type": "markdown",
      "metadata": {
        "id": "BTV3Dsb2wUKP"
      },
      "source": [
        "***Now importing Modules to train our Model***"
      ]
    },
    {
      "cell_type": "code",
      "metadata": {
        "id": "eAMRJPhBwSXf"
      },
      "source": [
        "\n",
        "from sklearn.linear_model import LinearRegression\n",
        "model = LinearRegression()"
      ],
      "execution_count": null,
      "outputs": []
    },
    {
      "cell_type": "code",
      "metadata": {
        "colab": {
          "base_uri": "https://localhost:8080/"
        },
        "id": "S7rn5m5RweUZ",
        "outputId": "0a157ae2-52d8-4eb3-8d6c-d6e3d9eb73c9"
      },
      "source": [
        "model.fit(x,y)"
      ],
      "execution_count": null,
      "outputs": [
        {
          "output_type": "execute_result",
          "data": {
            "text/plain": [
              "LinearRegression(copy_X=True, fit_intercept=True, n_jobs=None, normalize=False)"
            ]
          },
          "metadata": {},
          "execution_count": 31
        }
      ]
    },
    {
      "cell_type": "markdown",
      "metadata": {
        "id": "-1EwOmJxwhX5"
      },
      "source": [
        "***Now lets Predict***"
      ]
    },
    {
      "cell_type": "markdown",
      "metadata": {
        "id": "aFIm2Vvnx-KB"
      },
      "source": [
        "***Price of iQ007 64GB Varient SmartPhone is 31990 rs***"
      ]
    },
    {
      "cell_type": "code",
      "metadata": {
        "colab": {
          "base_uri": "https://localhost:8080/"
        },
        "id": "SyHVsnXnwhCB",
        "outputId": "5873d970-60e2-4214-dec1-e42c5f48a3cc"
      },
      "source": [
        "model.predict([[1,0,64]])"
      ],
      "execution_count": null,
      "outputs": [
        {
          "output_type": "execute_result",
          "data": {
            "text/plain": [
              "array([31990.14275362])"
            ]
          },
          "metadata": {},
          "execution_count": 34
        }
      ]
    },
    {
      "cell_type": "code",
      "metadata": {
        "colab": {
          "base_uri": "https://localhost:8080/"
        },
        "id": "WDLnjOqd0UD5",
        "outputId": "4d1425ba-1467-4275-d057-08a332d9cb6c"
      },
      "source": [
        "model.predict([[0,0,32]])"
      ],
      "execution_count": null,
      "outputs": [
        {
          "output_type": "execute_result",
          "data": {
            "text/plain": [
              "array([16318.90289855])"
            ]
          },
          "metadata": {},
          "execution_count": 51
        }
      ]
    },
    {
      "cell_type": "code",
      "metadata": {
        "colab": {
          "base_uri": "https://localhost:8080/"
        },
        "id": "iMlM8ruE0_uB",
        "outputId": "e0656cfe-7ff6-48d1-8c89-56506a2c72c0"
      },
      "source": [
        "model.predict([[0,1,256]])"
      ],
      "execution_count": null,
      "outputs": [
        {
          "output_type": "execute_result",
          "data": {
            "text/plain": [
              "array([44561.08188406])"
            ]
          },
          "metadata": {},
          "execution_count": 52
        }
      ]
    },
    {
      "cell_type": "markdown",
      "metadata": {
        "id": "PwvUwzeUzv3R"
      },
      "source": [
        "***Checking acuracy of our model***"
      ]
    },
    {
      "cell_type": "code",
      "metadata": {
        "colab": {
          "base_uri": "https://localhost:8080/"
        },
        "id": "aqgqFmmczqdi",
        "outputId": "868ac775-a9ad-473d-b982-1914ea9a6d7a"
      },
      "source": [
        "model.score(x,y)"
      ],
      "execution_count": null,
      "outputs": [
        {
          "output_type": "execute_result",
          "data": {
            "text/plain": [
              "0.9884693272584822"
            ]
          },
          "metadata": {},
          "execution_count": 46
        }
      ]
    },
    {
      "cell_type": "markdown",
      "metadata": {
        "id": "VwQaTv-Dz2Wx"
      },
      "source": [
        "***98%***"
      ]
    }
  ]
}